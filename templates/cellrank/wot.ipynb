{
 "cells": [
  {
   "cell_type": "markdown",
   "metadata": {
    "tags": []
   },
   "source": [
    "# WOTKernel template"
   ]
  },
  {
   "cell_type": "markdown",
   "metadata": {},
   "source": [
    "Running the following code requires `cellrank>1.5.1`."
   ]
  },
  {
   "cell_type": "code",
   "execution_count": null,
   "metadata": {},
   "outputs": [],
   "source": [
    "%load_ext autoreload\n",
    "%autoreload 2"
   ]
  },
  {
   "cell_type": "markdown",
   "metadata": {
    "hidePrompt": true
   },
   "source": [
    "## Library imports"
   ]
  },
  {
   "cell_type": "code",
   "execution_count": null,
   "metadata": {
    "ExecuteTime": {
     "end_time": "2021-06-30T10:59:26.230197Z",
     "start_time": "2021-06-30T10:59:22.776529Z"
    },
    "hidePrompt": true
   },
   "outputs": [],
   "source": [
    "import cellrank as cr\n",
    "import scanpy as sc\n",
    "import scvelo as scv\n",
    "from cellrank.external.kernels import WOTKernel\n",
    "from cellrank.estimators import GPCCA"
   ]
  },
  {
   "cell_type": "markdown",
   "metadata": {},
   "source": [
    "## General settings"
   ]
  },
  {
   "cell_type": "code",
   "execution_count": null,
   "metadata": {},
   "outputs": [],
   "source": [
    "# set verbosity levels\n",
    "sc.settings.verbosity = 2\n",
    "cr.settings.verbosity = 4\n",
    "scv.settings.verbosity = 3 "
   ]
  },
  {
   "cell_type": "code",
   "execution_count": null,
   "metadata": {
    "ExecuteTime": {
     "end_time": "2021-03-10T14:47:57.926657Z",
     "start_time": "2021-03-10T14:47:57.891203Z"
    }
   },
   "outputs": [],
   "source": [
    "scv.settings.set_figure_params('scvelo', dpi_save=400, dpi=80, transparent=True, fontsize=20, color_map='viridis')\n",
    "scv.settings.plot_prefix = \"\""
   ]
  },
  {
   "cell_type": "markdown",
   "metadata": {},
   "source": [
    "__<span style=\"color: red;\">TODO: Specify variables</span>__"
   ]
  },
  {
   "cell_type": "code",
   "execution_count": null,
   "metadata": {},
   "outputs": [],
   "source": [
    "# Key in `AnnData.obs` specifying time point of sample\n",
    "TIME_KEY = \"\"\n",
    "\n",
    "# Key in `AnnData.obs` specifying cell type\n",
    "CELL_TYPE_KEY = \"\"\n",
    "\n",
    "# organism studied (e.g. mouse or human)\n",
    "ORGANISM = \"\"\n",
    "\n",
    "# embedding used for plotting (e.g. umap or tsne)\n",
    "EMBEDDING = \"\""
   ]
  },
  {
   "cell_type": "markdown",
   "metadata": {},
   "source": [
    "## Data loading"
   ]
  },
  {
   "cell_type": "markdown",
   "metadata": {},
   "source": [
    "__<span style=\"color: red;\">TODO: Add path to data</span>__"
   ]
  },
  {
   "cell_type": "code",
   "execution_count": null,
   "metadata": {
    "ExecuteTime": {
     "end_time": "2021-06-30T11:15:14.370054Z",
     "start_time": "2021-06-30T10:59:26.231776Z"
    }
   },
   "outputs": [],
   "source": [
    "adata = sc.read()\n",
    "adata"
   ]
  },
  {
   "cell_type": "markdown",
   "metadata": {},
   "source": [
    "## Data pre-processing"
   ]
  },
  {
   "cell_type": "markdown",
   "metadata": {},
   "source": [
    "__<span style=\"color: red;\">TODO: Add preprocessing steps</span>__"
   ]
  },
  {
   "cell_type": "code",
   "execution_count": null,
   "metadata": {},
   "outputs": [],
   "source": []
  },
  {
   "cell_type": "code",
   "execution_count": null,
   "metadata": {
    "ExecuteTime": {
     "end_time": "2021-06-30T11:15:39.948825Z",
     "start_time": "2021-06-30T11:15:36.941329Z"
    }
   },
   "outputs": [],
   "source": [
    "sc.pp.pca(adata)\n",
    "sc.pp.neighbors(adata, random_state=0)"
   ]
  },
  {
   "cell_type": "markdown",
   "metadata": {},
   "source": [
    "## Compute transition matrix"
   ]
  },
  {
   "cell_type": "code",
   "execution_count": null,
   "metadata": {
    "ExecuteTime": {
     "end_time": "2021-06-30T11:19:29.654397Z",
     "start_time": "2021-06-30T11:16:04.505848Z"
    }
   },
   "outputs": [],
   "source": [
    "wk = WOTKernel(adata, time_key=TIME_KEY)\n",
    "wk.compute_initial_growth_rates(organism=ORGANISM, key_added=\"growth_rate_init\")\n",
    "wk.compute_transition_matrix(\n",
    "    growth_iters=3, growth_rate_key=\"growth_rate_init\", self_transitions=\"all\", conn_weight=0.2\n",
    ")"
   ]
  },
  {
   "cell_type": "markdown",
   "metadata": {},
   "source": [
    "__<span style=\"color: red;\">TODO: Set start cluster</span>__"
   ]
  },
  {
   "cell_type": "code",
   "execution_count": null,
   "metadata": {},
   "outputs": [],
   "source": [
    "wk.plot_random_walks(\n",
    "    n_sims=300,\n",
    "    max_iter=200,\n",
    "    start_ixs={TIME_KEY: },\n",
    "    basis=EMBEDDING,\n",
    "    c=TIME_KEY,\n",
    "    legend_loc=\"none\",\n",
    "    linealpha=0.5,\n",
    "    dpi=150,\n",
    ")"
   ]
  },
  {
   "cell_type": "markdown",
   "metadata": {},
   "source": [
    "## Macro state estimation"
   ]
  },
  {
   "cell_type": "code",
   "execution_count": null,
   "metadata": {},
   "outputs": [],
   "source": [
    "g = GPCCA(wk)"
   ]
  },
  {
   "cell_type": "code",
   "execution_count": null,
   "metadata": {},
   "outputs": [],
   "source": [
    "g.compute_schur()\n",
    "g.plot_spectrum(real_only=True)"
   ]
  },
  {
   "cell_type": "markdown",
   "metadata": {},
   "source": [
    "__<span style=\"color: red;\">TODO: Set number of states</span>__"
   ]
  },
  {
   "cell_type": "code",
   "execution_count": null,
   "metadata": {},
   "outputs": [],
   "source": [
    "g.compute_macrostates(n_states=, cluster_key=CELL_TYPE_KEY)\n",
    "g.plot_macrostates(discrete=True, basis=EMBEDDING, legend_loc=\"right\")"
   ]
  },
  {
   "cell_type": "markdown",
   "metadata": {},
   "source": [
    "__<span style=\"color: red;\">TODO: Set terminal states</span>__"
   ]
  },
  {
   "cell_type": "code",
   "execution_count": null,
   "metadata": {},
   "outputs": [],
   "source": [
    "g.set_terminal_states_from_macrostates([])"
   ]
  },
  {
   "cell_type": "code",
   "execution_count": null,
   "metadata": {},
   "outputs": [],
   "source": [
    "g.compute_absorption_probabilities(solver=\"gmres\", use_petsc=True, n_jobs=4)"
   ]
  },
  {
   "cell_type": "code",
   "execution_count": null,
   "metadata": {},
   "outputs": [],
   "source": [
    "g.plot_absorption_probabilities(same_plot=False, basis=EMBEDDING, perc=[0, 99])"
   ]
  },
  {
   "cell_type": "code",
   "execution_count": null,
   "metadata": {},
   "outputs": [],
   "source": []
  }
 ],
 "metadata": {
  "kernelspec": {
   "display_name": "velovi-py39",
   "language": "python",
   "name": "velovi-py39"
  },
  "language_info": {
   "codemirror_mode": {
    "name": "ipython",
    "version": 3
   },
   "file_extension": ".py",
   "mimetype": "text/x-python",
   "name": "python",
   "nbconvert_exporter": "python",
   "pygments_lexer": "ipython3",
   "version": "3.9.13"
  },
  "toc": {
   "base_numbering": 1,
   "nav_menu": {},
   "number_sections": true,
   "sideBar": true,
   "skip_h1_title": false,
   "title_cell": "Table of Contents",
   "title_sidebar": "Contents",
   "toc_cell": false,
   "toc_position": {
    "height": "calc(100% - 180px)",
    "left": "10px",
    "top": "150px",
    "width": "288px"
   },
   "toc_section_display": true,
   "toc_window_display": true
  }
 },
 "nbformat": 4,
 "nbformat_minor": 4
}
